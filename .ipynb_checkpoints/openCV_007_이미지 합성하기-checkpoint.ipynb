{
 "cells": [
  {
   "cell_type": "code",
   "execution_count": 8,
   "id": "0c67fade-77c4-4a55-80d2-5bf82e723bc2",
   "metadata": {},
   "outputs": [],
   "source": [
    "import cv2\n",
    "\n",
    "psy =cv2.imread('images/psy.png')\n",
    "tiger = cv2.imread('images/tiger.png')\n",
    "\n",
    "#마스크 이진 이미지 만들기 = 사용할 부분과 사용하지 않을 부분 구분하기\n",
    "mask2gray= cv2.cvtColor(tiger, cv2.COLOR_BGR2GRAY)\n",
    "_, mask_b = cv2.threshold(mask2gray, 200,255, cv2.THRESH_BINARY)\n",
    "\n",
    "# 마스크 이미지 반전\n",
    "# 흰부분을 사용하고 검은 부분은 사용X,(위와 반대)\n",
    "# 0 = 검은색 = False, 1=흰색 = True\n",
    "mask_b_inv = cv2.bitwise_not(mask_b)\n",
    "\n",
    "# 호랑이 이미지에서 사용할 영역의 값만 추출하기(흰 부분만 가져오고 검은부분은 안 가져옴.)\n",
    "sub_psy= psy[94:217, 239:371] \n",
    "img_bg= cv2.bitwise_and(sub_psy, sub_psy, mask= mask_b)\n",
    "img_fg= cv2.bitwise_and(tiger,tiger, mask=mask_b_inv)\n",
    "\n",
    "#cv2.imshow('img_bg', img_bg)\n",
    "#cv2.imshow('img_fg', img_fg)\n",
    "\n",
    "bg_fg=cv2.add(img_bg, img_fg)\n",
    "\n",
    "#cv2.imshow('bg_fg', bg_fg)\n",
    "#원래 이미지에 합성하기\n",
    "psy[94:217, 239:371] = bg_fg\n",
    "cv2.imshow('psy',psy)\n",
    "\n",
    "#cv2.imshow('mask_b',mask_b)\n",
    "#cv2.imshow('mask_b_inv', mask_b_inv)\n",
    "#psy[94:217, 239:371] = tiger\n",
    "\n",
    "#cv2.imshow('psy', psy)\n",
    "#cv2.imshow('tiger', tiger)\n",
    "\n",
    "cv2.waitKey(0)\n",
    "cv2.destroyAllWindows()\n"
   ]
  },
  {
   "cell_type": "code",
   "execution_count": null,
   "id": "7e00ee1c-6a3b-4db9-b78f-2f495e63715e",
   "metadata": {},
   "outputs": [],
   "source": [
    "#ROI(Region of Image, 관심영역) : 싸이 얼굴 영역"
   ]
  },
  {
   "cell_type": "code",
   "execution_count": 2,
   "id": "82c8fc42-1566-479f-9e69-fa9421aa871a",
   "metadata": {},
   "outputs": [
    {
     "data": {
      "text/plain": [
       "(838, 630, 3)"
      ]
     },
     "execution_count": 2,
     "metadata": {},
     "output_type": "execute_result"
    }
   ],
   "source": [
    "# 컬러이미지\n",
    "# (세로, 가로, 색상채널)  색상채널이 3이면 BGR임.\n",
    "psy.shape"
   ]
  },
  {
   "cell_type": "code",
   "execution_count": 26,
   "id": "45015ea7-cf48-40f7-98f8-6bfe5ff523cf",
   "metadata": {},
   "outputs": [],
   "source": [
    "#좌 상단의 좌표 :280,50 \n",
    "# 우 하단의 좌표 : 400,200\n",
    "# 싸이 얼굴 자르기\n",
    "# 열 = y, 행 = x\n",
    "# \n",
    "sub_psy = psy[94:217, 239:371]\n",
    "cv2.imshow('sub',sub_psy)\n",
    "cv2.waitKey(0)\n",
    "cv2.destroyAllWindows()"
   ]
  },
  {
   "cell_type": "code",
   "execution_count": 23,
   "id": "b84fac6a-fef0-446c-a149-2a31636cfc64",
   "metadata": {},
   "outputs": [
    {
     "data": {
      "text/plain": [
       "(123, 132, 3)"
      ]
     },
     "execution_count": 23,
     "metadata": {},
     "output_type": "execute_result"
    }
   ],
   "source": [
    "tiger.shape"
   ]
  },
  {
   "cell_type": "markdown",
   "id": "858041f6-0721-4107-b03f-b8b5989772aa",
   "metadata": {},
   "source": [
    "###  카메라 고정된 영역에 마스크 씌우기"
   ]
  },
  {
   "cell_type": "code",
   "execution_count": null,
   "id": "893a1575-5103-49d6-88aa-77af23b5847b",
   "metadata": {},
   "outputs": [],
   "source": [
    "import cv2\n",
    "\n",
    "cap = cv2.VideoCapture(0)\n",
    "\n",
    "tiger = cv2.imread('images/tiger.png')\n",
    "mask2gray = cv2.cvtColor(tiger , cㅣv2.COLOR_BGR2GRAY)\n",
    "_, mask_b = cv2.threshold(mask2gray, 200, 255, cv2.THRESH_BINARY)\n",
    "mask_b_inv = cv2.bitwise_not(mask_b)\n",
    "\n",
    "while cap.isOpened() :\n",
    "\n",
    "    ret, frame = cap.read() # 초당 30번은 실행시켜야함\n",
    "    frame = cv2.flip(frame, 1)\n",
    "    \n",
    "    if not ret :\n",
    "        print(\"종료\")\n",
    "        break\n",
    "\n",
    "    sub_psy = psy[ 94:217 , 239:371]\n",
    "    img_bg = cv2.bitwise_and(sub_psy, sub_psy, mask = mask_b)\n",
    "    img_fg = cv2.bitwise_and(tiger,tiger, mask = mask_b_inv)\n",
    "    bg_fg = cv2.add(img_bg,img_fg)\n",
    "    psy[ 94:217 , 239:371] = bg_fg\n",
    "    \n",
    "    cv2.imshow(\"video\", frame)\n",
    "    \n",
    "    key = cv2.waitKey(33) # 1장의 사진을 33ms동안 출력한다. 1초 = 1000ms \n",
    "\n",
    "    if key == 49 :\n",
    "        print(\"종료\")\n",
    "        break\n",
    "        \n",
    "cap.release()\n",
    "cv2.destroyAllWindows()"
   ]
  },
  {
   "cell_type": "code",
   "execution_count": null,
   "id": "d85fb3ce-3e00-4a1b-b351-8a6b5297b16f",
   "metadata": {},
   "outputs": [],
   "source": [
    "import cv2\n",
    "\n",
    "psy = cv2.imread('images/psy.png')\n",
    "tiger = cv2.imread('images/tiger.png')\n",
    "\n",
    "mask2gray = cv2.cvtColor(tiger , cㅣv2.COLOR_BGR2GRAY)\n",
    "_, mask_b = cv2.threshold(mask2gray, 200, 255, cv2.THRESH_BINARY)\n",
    "mask_b_inv = cv2.bitwise_not(mask_b)\n",
    "sub_psy = psy[ 94:217 , 239:371]\n",
    "\n",
    "img_bg = cv2.bitwise_and(sub_psy, sub_psy, mask = mask_b)\n",
    "img_fg = cv2.bitwise_and(tiger,tiger, mask = mask_b_inv)\n",
    "bg_fg = cv2.add(img_bg,img_fg)\n",
    "psy[ 94:217 , 239:371] = bg_fg\n",
    "\n",
    "cv2.imshow('psy',psy)\n",
    "cv2.waitKey(0)\n",
    "cv2.destroyAllWindows()"
   ]
  },
  {
   "cell_type": "code",
   "execution_count": null,
   "id": "f240540f-1230-4316-b131-be07c53a66ad",
   "metadata": {},
   "outputs": [],
   "source": []
  },
  {
   "cell_type": "code",
   "execution_count": null,
   "id": "e253d3e5-62a6-4e2f-b9ee-ce55e9564e16",
   "metadata": {},
   "outputs": [],
   "source": []
  },
  {
   "cell_type": "code",
   "execution_count": null,
   "id": "99fd0883-a1e7-45bd-9b12-2178077b7423",
   "metadata": {},
   "outputs": [],
   "source": []
  },
  {
   "cell_type": "code",
   "execution_count": null,
   "id": "7ee31908-5703-4458-85e7-c7204f14b33f",
   "metadata": {},
   "outputs": [],
   "source": []
  },
  {
   "cell_type": "code",
   "execution_count": null,
   "id": "0a28b0ad-e4cc-463e-b64a-bfaa8c00f1b7",
   "metadata": {},
   "outputs": [],
   "source": []
  },
  {
   "cell_type": "code",
   "execution_count": null,
   "id": "40dea410-e858-4ea1-bd49-62ac75c61a14",
   "metadata": {},
   "outputs": [],
   "source": []
  },
  {
   "cell_type": "code",
   "execution_count": null,
   "id": "20442e9a-2c11-4802-99aa-23df9c5990ab",
   "metadata": {},
   "outputs": [],
   "source": []
  },
  {
   "cell_type": "code",
   "execution_count": null,
   "id": "1a293069-e15c-4845-9f51-eff3c0b8f303",
   "metadata": {},
   "outputs": [],
   "source": []
  },
  {
   "cell_type": "code",
   "execution_count": null,
   "id": "3446c24c-d882-4d53-a9ba-8b6c3c5640e5",
   "metadata": {},
   "outputs": [],
   "source": []
  },
  {
   "cell_type": "code",
   "execution_count": null,
   "id": "3ce799af-ac84-4e30-a3ae-21252afa5622",
   "metadata": {},
   "outputs": [],
   "source": []
  }
 ],
 "metadata": {
  "kernelspec": {
   "display_name": "Python 3 (ipykernel)",
   "language": "python",
   "name": "python3"
  },
  "language_info": {
   "codemirror_mode": {
    "name": "ipython",
    "version": 3
   },
   "file_extension": ".py",
   "mimetype": "text/x-python",
   "name": "python",
   "nbconvert_exporter": "python",
   "pygments_lexer": "ipython3",
   "version": "3.8.18"
  }
 },
 "nbformat": 4,
 "nbformat_minor": 5
}
