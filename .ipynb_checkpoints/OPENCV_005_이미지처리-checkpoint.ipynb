{
 "cells": [
  {
   "cell_type": "code",
   "execution_count": null,
   "id": "f278df75-116e-4945-a2d1-01524956e861",
   "metadata": {},
   "outputs": [],
   "source": [
    "# 1. 카메라 연동해서 띄우기\n",
    "# 2-1. 버튼(1) 누르면 흑백화면으로 바꾸기\n",
    "# 2-2. 버튼(2) 누르면 좌우 반전시키기\n",
    "# 2-3. 버튼(3) 누르면 이진화 이미지 만들기\n",
    "# 2-4. 버튼(4) 누르면 종료하기"
   ]
  },
  {
   "cell_type": "code",
   "execution_count": 1,
   "id": "f4f43871-7b7a-4fcc-91a9-f00e502c8208",
   "metadata": {},
   "outputs": [
    {
     "name": "stdout",
     "output_type": "stream",
     "text": [
      "종료\n"
     ]
    }
   ],
   "source": [
    "import cv2\n",
    "\n",
    "# 카메라 연동\n",
    "cap = cv2.VideoCapture(0)\n",
    "\n",
    "# 1번 버튼을 눌렀음을 감지하기 위한 변수\n",
    "gray = False\n",
    "thres = False\n",
    "flip_rl = False\n",
    "flip_ud = False\n",
    "\n",
    "while True:\n",
    "    ret, frame = cap.read() \n",
    "\n",
    "    if not ret:\n",
    "        print('종료')\n",
    "        break\n",
    "\n",
    "    key = cv2.waitKey(30) # 30ms = 초당 33장의 사진, 코드가 실행되는 시간도 있기 때문에\n",
    "\n",
    "    # 버튼(1) 누르면 흑백화면으로 바꾸기\n",
    "    if key == 49:\n",
    "        # 버튼을 눌렀을때만 흑백으로 바꾸기\n",
    "        # frame = cv2.cvtColor(frame, cv2.COLOR_RGB2GRAY)\n",
    "        # 버튼 누르면 흑백 다시 누르면 흑백 제거\n",
    "        if gray:\n",
    "            gray = False\n",
    "        else :\n",
    "            gray = True\n",
    "\n",
    "    if gray: # 버튼을 한번 눌러서 gray의 값에 True가 대입되면 실행\n",
    "        frame = cv2.cvtColor(frame,cv2.COLOR_RGB2GRAY)\n",
    "\n",
    "    if key == 50:\n",
    "        if thres:\n",
    "            thres = False\n",
    "        else:\n",
    "            thres = True\n",
    "    if thres:\n",
    "        _, frame = cv2.threshold(frame, 128, 255, cv2.THRESH_BINARY)\n",
    "\n",
    "    if key == 51: # 좌우 뒤집기\n",
    "        if flip_rl:\n",
    "            flip_rl = False\n",
    "        else:\n",
    "            flip_rl = True\n",
    "    if flip_rl:\n",
    "        frame = cv2.flip(frame,1)\n",
    "\n",
    "    if key == 52: # 상하 뒤집기\n",
    "        if flip_ud:\n",
    "            flip_ud = False\n",
    "        else:\n",
    "            flip_ud = True\n",
    "    if flip_ud:\n",
    "        frame = cv2.flip(frame,-1)\n",
    "        \n",
    "    cv2.imshow('video', frame)\n",
    "    \n",
    "    # 5번 버튼\n",
    "    if key == 53: # 4($)을 눌렀을때\n",
    "        print('종료')\n",
    "        break\n",
    "\n",
    "cap.release()\n",
    "cv2.destroyAllWindows()"
   ]
  },
  {
   "cell_type": "code",
   "execution_count": null,
   "id": "42fa4a83-d39e-4b52-8591-e8676d09100e",
   "metadata": {},
   "outputs": [],
   "source": []
  },
  {
   "cell_type": "code",
   "execution_count": null,
   "id": "4adc8783-f570-4385-94eb-a161d0bd6629",
   "metadata": {},
   "outputs": [],
   "source": []
  },
  {
   "cell_type": "code",
   "execution_count": null,
   "id": "7b79ec6a-12b1-46ea-8156-246dfc4a6451",
   "metadata": {},
   "outputs": [],
   "source": []
  },
  {
   "cell_type": "code",
   "execution_count": null,
   "id": "2b97f3c5-7e65-4cd7-bdad-01d1e836898e",
   "metadata": {},
   "outputs": [],
   "source": []
  },
  {
   "cell_type": "code",
   "execution_count": null,
   "id": "160f73c4-a2d6-465d-ab96-ae6bb6c0abe2",
   "metadata": {},
   "outputs": [],
   "source": []
  },
  {
   "cell_type": "code",
   "execution_count": null,
   "id": "aee07387-4501-449e-b5d8-d07162ffb19c",
   "metadata": {},
   "outputs": [],
   "source": []
  },
  {
   "cell_type": "code",
   "execution_count": null,
   "id": "49af9bf3-2e32-4d6e-a187-cd95c1051b03",
   "metadata": {},
   "outputs": [],
   "source": []
  },
  {
   "cell_type": "code",
   "execution_count": null,
   "id": "6f641e06-8d3e-441b-9b53-14b8e7763ca4",
   "metadata": {},
   "outputs": [],
   "source": []
  },
  {
   "cell_type": "code",
   "execution_count": null,
   "id": "39d7d03b-e41d-4bd2-bb07-88b108d3d426",
   "metadata": {},
   "outputs": [],
   "source": []
  },
  {
   "cell_type": "code",
   "execution_count": null,
   "id": "bc69163c-645c-44ab-bec3-e2c52c31ed62",
   "metadata": {},
   "outputs": [],
   "source": []
  },
  {
   "cell_type": "code",
   "execution_count": null,
   "id": "965acc3a-97d1-492d-91a8-8082c5713402",
   "metadata": {},
   "outputs": [],
   "source": []
  },
  {
   "cell_type": "code",
   "execution_count": null,
   "id": "6bad0efe-2af6-4b98-bc97-3b909612bc51",
   "metadata": {},
   "outputs": [],
   "source": []
  },
  {
   "cell_type": "code",
   "execution_count": null,
   "id": "0887e507-2c61-4088-af32-64b851be6208",
   "metadata": {},
   "outputs": [],
   "source": []
  },
  {
   "cell_type": "code",
   "execution_count": null,
   "id": "4c3b2998-b83e-4a5c-8ecd-5fd0dd837ccb",
   "metadata": {},
   "outputs": [],
   "source": []
  }
 ],
 "metadata": {
  "kernelspec": {
   "display_name": "Python 3 (ipykernel)",
   "language": "python",
   "name": "python3"
  },
  "language_info": {
   "codemirror_mode": {
    "name": "ipython",
    "version": 3
   },
   "file_extension": ".py",
   "mimetype": "text/x-python",
   "name": "python",
   "nbconvert_exporter": "python",
   "pygments_lexer": "ipython3",
   "version": "3.8.18"
  }
 },
 "nbformat": 4,
 "nbformat_minor": 5
}
