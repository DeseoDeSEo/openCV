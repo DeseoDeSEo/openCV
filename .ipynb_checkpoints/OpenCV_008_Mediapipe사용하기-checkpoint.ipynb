{
 "cells": [
  {
   "cell_type": "markdown",
   "id": "8123f980-7128-4c2f-a038-de3e25a80858",
   "metadata": {},
   "source": [
    "mediapipe : 객체 탐지, 이미지 분류(CNN모델), 손 관절 인식, 이미지의 윤곽선 따기(Segmentation), 몸 관절 인식."
   ]
  },
  {
   "cell_type": "code",
   "execution_count": null,
   "id": "942f84d9-2051-495e-a505-222247cefcda",
   "metadata": {},
   "outputs": [],
   "source": [
    "import mediapipe as mp\n",
    "import cv2\n",
    "\n",
    "#얼굴에서 특징점들을 찾을 수 있는 기능 불러오기\n",
    "mp_face_mesh = mp.solutions.face_mesh\n",
    "# 찾은 특징점 표현하기\n",
    "mp_drawing = mp.solutions.drawing_utils\n",
    "# 특징점 그리기 속성\n",
    "drawing_spec = mp_drawing.DrawingSpec(thickness=1, color=(0,0,255))\n",
    "# 얼굴에서 특징점 찾기 속성\n",
    "face_mesh = mp_face_mesh.FaceMesh(\n",
    "    min_detection_confidence=0.5,  # 얼굴 검출확률(자체 판단) 50%이상인 것들만 출력하기\n",
    "    min_tracking_confidence= 0.5  # 특징점 검출 확률(자체 판단) 50% 이상 인 것들만 출력하기\n",
    "    \n",
    ")\n",
    "\n",
    "tiger = cv2.imread('images/tiger.png')\n",
    "tiger =cv2.resize(tiger, (200,200))\n",
    "mask2gray = cv2.cvtColor(tiger , cv2.COLOR_BGR2GRAY)\n",
    "_, mask_b = cv2.threshold(mask2gray, 200, 255, cv2.THRESH_BINARY)\n",
    "mask_b_inv = cv2.bitwise_not(mask_b)\n",
    "\n",
    "cap = cv2.VideoCapture(0)\n",
    "\n",
    "while cap.isOpened():\n",
    "    ret, img = cap.read()\n",
    "    if not ret:\n",
    "        break\n",
    "        \n",
    "    # 카메라에서 불러온 사진에서 얼굴 특징점 찾기\n",
    "    results = face_mesh.process(img)\n",
    "    \n",
    "    # 얼굴의 특징점(478개)을 감지했을 때 실행하겠다\n",
    "    if results.multi_face_landmarks is not None: \n",
    "      #  print(results.multi_face_landmarks)\n",
    "       # for res in results.multi_face_landmarks:\n",
    "        #    mp_drawing.draw_landmarks(img, res, mp_face_mesh.FACEMESH_TESSELATION)\n",
    "        \n",
    "        #확인된 값(결과값들)을 사용하기 편하도록.\n",
    "        face_landmarks = results.multi_face_landmarks[0]\n",
    "        # 코의 좌표 찾기\n",
    "        x =int(face_landmarks.landmark[5].x*img.shape[1])\n",
    "        y= int(face_landmarks.landmark[5].x*img.shape[0])\n",
    "       # cv2.circle(img, (x,y), 20, (0,0,255), cv2.FILLED )\n",
    "\n",
    "        # 이미지를 넣을 중심 좌표(코의 위치)  == x,y\n",
    "        # 마스크 이미지의 크기 == (123,132) == tiger.shape\n",
    "        try:\n",
    "            sub_img = img[ y-100: y+100 , x-100 : x+100  ]\n",
    "            img_bg = cv2.bitwise_and(sub_img, sub_img, mask = mask_b)\n",
    "            img_fg = cv2.bitwise_and(tiger,tiger, mask = mask_b_inv)\n",
    "            bg_fg = cv2.add(img_bg,img_fg)\n",
    "            img[ y-100: y+100 , x-100 : x+100  ]= bg_fg\n",
    "        except :\n",
    "            pass\n",
    "    cv2.imshow('video',img)\n",
    "    if cv2.waitKey(33) == 49:\n",
    "        break\n",
    "cap.release()\n",
    "cv2.destroyAllWindows()"
   ]
  },
  {
   "cell_type": "code",
   "execution_count": null,
   "id": "dc3b097a-0642-4f83-af9a-ca71e3277df0",
   "metadata": {},
   "outputs": [],
   "source": [
    "import cv2\n",
    "\n",
    "psy = cv2.imread('images/psy.png')\n",
    "\n",
    "tiger = cv2.imread('images/tiger.png')\n",
    "mask2gray = cv2.cvtColor(tiger , cv2.COLOR_BGR2GRAY)\n",
    "_, mask_b = cv2.threshold(mask2gray, 200, 255, cv2.THRESH_BINARY)\n",
    "mask_b_inv = cv2.bitwise_not(mask_b)\n",
    "\n",
    "sub_psy = psy[ 94:217 , 239:371]\n",
    "img_bg = cv2.bitwise_and(sub_psy, sub_psy, mask = mask_b)\n",
    "img_fg = cv2.bitwise_and(tiger,tiger, mask = mask_b_inv)\n",
    "bg_fg = cv2.add(img_bg,img_fg)\n",
    "psy[ 94:217 , 239:371] = bg_fg\n",
    "\n",
    "cv2.imshow('psy',psy)\n",
    "cv2.waitKey(0)\n",
    "cv2.destroyAllWindows()"
   ]
  },
  {
   "cell_type": "code",
   "execution_count": null,
   "id": "21df2da7-aad4-47ce-abd6-c6f453e9b159",
   "metadata": {},
   "outputs": [],
   "source": []
  },
  {
   "cell_type": "code",
   "execution_count": null,
   "id": "a310c5e7-6f12-4f1b-ae23-adea7d6cc6c4",
   "metadata": {},
   "outputs": [],
   "source": []
  },
  {
   "cell_type": "code",
   "execution_count": null,
   "id": "18bed56b-a511-4d3d-abe2-7b13be1714ed",
   "metadata": {},
   "outputs": [],
   "source": []
  },
  {
   "cell_type": "code",
   "execution_count": null,
   "id": "28c8eb90-f46d-42b4-a86e-d83b83d7c16c",
   "metadata": {},
   "outputs": [],
   "source": []
  },
  {
   "cell_type": "code",
   "execution_count": null,
   "id": "81c520d8-e984-466d-8713-14d2d0325538",
   "metadata": {},
   "outputs": [],
   "source": []
  },
  {
   "cell_type": "code",
   "execution_count": null,
   "id": "cf39fee7-7df2-44d5-b182-7be4c86610c7",
   "metadata": {},
   "outputs": [],
   "source": []
  },
  {
   "cell_type": "code",
   "execution_count": null,
   "id": "9520adac-76cf-4a70-9260-a29f1a6a928e",
   "metadata": {},
   "outputs": [],
   "source": []
  },
  {
   "cell_type": "code",
   "execution_count": null,
   "id": "11b7501c-50cd-4983-9106-4fb053c3b498",
   "metadata": {},
   "outputs": [],
   "source": []
  },
  {
   "cell_type": "code",
   "execution_count": null,
   "id": "587aaab8-291c-4739-b56a-898612f2c11a",
   "metadata": {},
   "outputs": [],
   "source": []
  },
  {
   "cell_type": "code",
   "execution_count": null,
   "id": "78bfa3f8-30fe-4c50-93e4-ea2426e2dc88",
   "metadata": {},
   "outputs": [],
   "source": []
  },
  {
   "cell_type": "code",
   "execution_count": null,
   "id": "06a95a31-c146-4bce-8f56-941232700212",
   "metadata": {},
   "outputs": [],
   "source": []
  },
  {
   "cell_type": "code",
   "execution_count": null,
   "id": "723723a3-361e-4ffe-bf2c-650824987eb3",
   "metadata": {},
   "outputs": [],
   "source": []
  },
  {
   "cell_type": "code",
   "execution_count": null,
   "id": "11783143-ed05-4e8a-b560-e590e04e9c34",
   "metadata": {},
   "outputs": [],
   "source": []
  },
  {
   "cell_type": "code",
   "execution_count": null,
   "id": "1dd2f3ee-9fe7-4bd8-a148-2b718d291e97",
   "metadata": {},
   "outputs": [],
   "source": []
  },
  {
   "cell_type": "code",
   "execution_count": null,
   "id": "12705413-0fc6-4d20-9643-15e9074bfaa9",
   "metadata": {},
   "outputs": [],
   "source": []
  }
 ],
 "metadata": {
  "kernelspec": {
   "display_name": "Python 3 (ipykernel)",
   "language": "python",
   "name": "python3"
  },
  "language_info": {
   "codemirror_mode": {
    "name": "ipython",
    "version": 3
   },
   "file_extension": ".py",
   "mimetype": "text/x-python",
   "name": "python",
   "nbconvert_exporter": "python",
   "pygments_lexer": "ipython3",
   "version": "3.8.18"
  }
 },
 "nbformat": 4,
 "nbformat_minor": 5
}
