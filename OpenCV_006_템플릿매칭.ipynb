{
 "cells": [
  {
   "cell_type": "code",
   "execution_count": null,
   "id": "f903a15a-053d-48fa-82a3-029f12a36596",
   "metadata": {},
   "outputs": [],
   "source": [
    "#템플릿 매칭\n",
    "# 배경 사진에서 원하는 물체 찾기\n",
    "# 메이플 배경 이미지에서 파란 달팽이, 초록 버섯 찾기\n",
    "# 템플릿 매칭은 좌 상단부터 한 픽셀씩 움직이면서 원하는 물체와 배경이 유사한지 검색."
   ]
  },
  {
   "cell_type": "code",
   "execution_count": null,
   "id": "da374b9f-f79b-4c24-be18-3b4ad5f2a741",
   "metadata": {},
   "outputs": [],
   "source": [
    "#파란 달팽이 찾기\n",
    "import cv2\n",
    "# 배경화면\n",
    "img = cv2.imread('images/maple.jpg')\n",
    "img_gray=cv2.cvtColor(img, cv2.COLOR_RGB2GRAY)\n",
    "\n",
    "blue_snail = cv2.imread('images/blue_snail.jpg')\n",
    "blue_snail_gray=cv2.cvtColor(blue_snail, cv2.COLOR_RGB2GRAY)\n",
    "h1,w1 = blue_snail_gray.shape # 찾을 대상(흑백 이미지)의 세로, 가로 크기 받아오기\n",
    "\n",
    "green_mush = cv2.imread('images/green_mushroom.jpg')\n",
    "green_mush_gray=cv2.cvtColor(green_mush, cv2.COLOR_RGB2GRAY)\n",
    "h2,w2 = green_mush_gray.shape # 찾을 대상(흑백 이미지)의 세로, 가로 크기 받아오기\n",
    "\n",
    "#이미지 찾기(배경이미지, 찾을이미지, 찾을 방법)\n",
    "res1=cv2.matchTemplate(img_gray, blue_snail_gray, cv2.TM_CCOEFF_NORMED )\n",
    "res2=cv2.matchTemplate(img_gray, green_mush_gray, cv2.TM_CCOEFF_NORMED )\n",
    "import numpy as np\n",
    "loc = np.where(res1 >= 0.75)\n",
    "# 하단에서 상단의 결과는 y값, 하단의 결과는 x값이라 생각. ( 일치하는 곳의 상단 좌표 결과임)\n",
    "loc2 = np.where(res2 >= 0.75)\n",
    "\n",
    "#데이터 순서 역으로 바꾸기\n",
    "# 하단에서 상단의 결과는 x값, 하단의 결과는 y값이라 생각. ( 일치하는 곳의 상단 좌표 결과임)\n",
    "for pt in zip(*loc[::-1]):\n",
    "    #print(pt)  x,y좌표가 들어있음.\n",
    "    # 배경이미지에 위치를 사각형으로 표현하기\n",
    "    # CV2.rectangle(배경이미지, 좌상단의 좌표, 우하단 좌표, 색상, 두께)\n",
    "    cv2.rectangle(img, pt, (pt[0]+w1,pt[1]+h1), (0,0,255), 3)\n",
    "\n",
    "for pt in zip(*loc2[::-1]):\n",
    "    #print(pt)  x,y좌표가 들어있음.\n",
    "    # 배경이미지에 위치를 사각형으로 표현하기\n",
    "    # CV2.rectangle(배경이미지, 좌상단의 좌표, 우하단 좌표, 색상, 두께)\n",
    "    cv2.rectangle(img, pt, (pt[0]+w2,pt[1]+h2), (255,0,0), 3)\n",
    "        \n",
    "cv2.imshow('maple', img)\n",
    "#cv2.imshow('snail', blue_snail)\n",
    "#cv2.imshow('mush', green_mush)\n",
    "cv2.waitKey(0)\n",
    "cv2.destroyAllWindows()\n",
    "\n"
   ]
  },
  {
   "cell_type": "code",
   "execution_count": 6,
   "id": "caa1dd93-e35d-4efa-80e2-3efde04e6f0d",
   "metadata": {},
   "outputs": [],
   "source": [
    "import cv2\n",
    "# 배경화면\n",
    "img = cv2.imread('images/maple.jpg')\n",
    "img_gray=cv2.cvtColor(img, cv2.COLOR_RGB2GRAY)\n",
    "\n",
    "blue_snail = cv2.imread('images/blue_snail.jpg')\n",
    "blue_snail_gray=cv2.cvtColor(blue_snail, cv2.COLOR_RGB2GRAY)\n",
    "h1,w1 = blue_snail_gray.shape # 찾을 대상(흑백 이미지)의 세로, 가로 크기 받아오기\n",
    "\n",
    "green_mush = cv2.imread('images/green_mushroom.jpg')\n",
    "green_mush_gray=cv2.cvtColor(green_mush, cv2.COLOR_RGB2GRAY)\n",
    "h2,w2 = green_mush_gray.shape # 찾을 대상(흑백 이미지)의 세로, 가로 크기 받아오기\n",
    "\n",
    "#이미지 찾기(배경이미지, 찾을이미지, 찾을 방법)\n",
    "res2=cv2.matchTemplate(img_gray, green_mush_gray, cv2.TM_CCOEFF_NORMED )\n",
    "\n",
    "import numpy as np\n",
    "loc2 = np.where(res2 >= 0.75)\n",
    "# 하단에서 상단의 결과는 y값, 하단의 결과는 x값이라 생각. ( 일치하는 곳의 상단 좌표 결과임)\n",
    "\n",
    "#데이터 순서 역으로 바꾸기\n",
    "# 하단에서 상단의 결과는 x값, 하단의 결과는 y값이라 생각. ( 일치하는 곳의 상단 좌표 결과임)\n",
    "for pt in zip(*loc2[::-1]):\n",
    "    #print(pt)  x,y좌표가 들어있음.\n",
    "    # 배경이미지에 위치를 사각형으로 표현하기\n",
    "    # CV2.rectangle(배경이미지, 좌상단의 좌표, 우하단 좌표, 색상, 두께)\n",
    "    cv2.rectangle(img, pt, (pt[0]+w2,pt[1]+h2), (0,0,255), 3)\n",
    "        \n",
    "cv2.imshow('maple', img)\n",
    "#cv2.imshow('snail', blue_snail)\n",
    "#cv2.imshow('mush', green_mush)\n",
    "cv2.waitKey(0)\n",
    "cv2.destroyAllWindows()\n",
    "\n"
   ]
  },
  {
   "cell_type": "code",
   "execution_count": 3,
   "id": "66f22884-61aa-4013-8293-abd23de13cc5",
   "metadata": {},
   "outputs": [
    {
     "name": "stdout",
     "output_type": "stream",
     "text": [
      "(233, 29)\n",
      "(454, 411)\n",
      "(455, 411)\n",
      "(455, 412)\n",
      "(522, 531)\n",
      "(523, 531)\n",
      "(522, 532)\n",
      "(523, 532)\n",
      "(524, 532)\n",
      "(985, 532)\n",
      "(986, 532)\n",
      "(523, 533)\n",
      "(524, 533)\n",
      "(985, 533)\n",
      "(986, 533)\n",
      "(319, 684)\n",
      "(988, 684)\n",
      "(218, 685)\n",
      "(219, 685)\n",
      "(319, 685)\n",
      "(320, 685)\n",
      "(409, 685)\n",
      "(549, 685)\n",
      "(550, 685)\n",
      "(681, 685)\n",
      "(682, 685)\n",
      "(731, 685)\n",
      "(988, 685)\n",
      "(989, 685)\n",
      "(218, 686)\n",
      "(219, 686)\n",
      "(409, 686)\n",
      "(550, 686)\n"
     ]
    }
   ],
   "source": [
    "# 배경과 찾는 이미지가 얼마나 유사한지\n",
    "# -1 ~ 1사이의 숫자\n",
    "# -1 : 전혀 상관없음. 1: 완전 똑같음\n",
    "# 유사도가 0.7이상인 값들만 사용.\n",
    "import numpy as np\n",
    "loc = np.where(res1 >= 0.75)\n",
    "# 하단에서 상단의 결과는 y값, 하단의 결과는 x값이라 생각. ( 일치하는 곳의 상단 좌표 결과임)\n",
    "\n",
    "#데이터 순서 역으로 바꾸기\n",
    "# 하단에서 상단의 결과는 x값, 하단의 결과는 y값이라 생각. ( 일치하는 곳의 상단 좌표 결과임)\n",
    "for pt in zip(*loc[::-1]):\n",
    "    print(pt)"
   ]
  },
  {
   "cell_type": "code",
   "execution_count": null,
   "id": "951bf210-e37b-4b41-bbc2-cd001ba7f641",
   "metadata": {},
   "outputs": [],
   "source": []
  },
  {
   "cell_type": "code",
   "execution_count": null,
   "id": "99e16475-b67f-44c6-964d-25ffd4e7d449",
   "metadata": {},
   "outputs": [],
   "source": []
  },
  {
   "cell_type": "code",
   "execution_count": null,
   "id": "5b5494ce-3c15-4424-a1c5-115be6f89593",
   "metadata": {},
   "outputs": [],
   "source": []
  },
  {
   "cell_type": "code",
   "execution_count": null,
   "id": "70413a25-bb6d-45e9-956f-19d8865be139",
   "metadata": {},
   "outputs": [],
   "source": []
  },
  {
   "cell_type": "code",
   "execution_count": null,
   "id": "e59c35b5-5a0a-401a-a509-ab455b40564b",
   "metadata": {},
   "outputs": [],
   "source": []
  },
  {
   "cell_type": "code",
   "execution_count": null,
   "id": "50257b62-8f98-4cf8-9006-a9c6a8dddce3",
   "metadata": {},
   "outputs": [],
   "source": []
  },
  {
   "cell_type": "code",
   "execution_count": null,
   "id": "0fe92d7f-2ebb-4a93-8dcd-5d8ccebcdeb8",
   "metadata": {},
   "outputs": [],
   "source": []
  },
  {
   "cell_type": "code",
   "execution_count": null,
   "id": "4345a5f8-f99b-4a60-a79d-023d0e5a5306",
   "metadata": {},
   "outputs": [],
   "source": []
  },
  {
   "cell_type": "code",
   "execution_count": null,
   "id": "5e67efe3-7a41-4f47-8d18-3417db49c4a0",
   "metadata": {},
   "outputs": [],
   "source": []
  },
  {
   "cell_type": "code",
   "execution_count": null,
   "id": "0816c4ec-b7df-412d-8729-fa5ecc7aeeb8",
   "metadata": {},
   "outputs": [],
   "source": []
  },
  {
   "cell_type": "code",
   "execution_count": null,
   "id": "215dca37-1c3e-4a8c-9387-2128feda00f8",
   "metadata": {},
   "outputs": [],
   "source": []
  },
  {
   "cell_type": "code",
   "execution_count": null,
   "id": "52fcd7e7-b894-4a77-bb28-743598647f96",
   "metadata": {},
   "outputs": [],
   "source": []
  },
  {
   "cell_type": "code",
   "execution_count": null,
   "id": "a44331f8-feeb-47cb-a50b-d7dd6e4b33bc",
   "metadata": {},
   "outputs": [],
   "source": []
  },
  {
   "cell_type": "code",
   "execution_count": null,
   "id": "9fc79000-6dd2-4d33-b0c7-030a250e9816",
   "metadata": {},
   "outputs": [],
   "source": []
  }
 ],
 "metadata": {
  "kernelspec": {
   "display_name": "Python 3 (ipykernel)",
   "language": "python",
   "name": "python3"
  },
  "language_info": {
   "codemirror_mode": {
    "name": "ipython",
    "version": 3
   },
   "file_extension": ".py",
   "mimetype": "text/x-python",
   "name": "python",
   "nbconvert_exporter": "python",
   "pygments_lexer": "ipython3",
   "version": "3.8.18"
  }
 },
 "nbformat": 4,
 "nbformat_minor": 5
}
